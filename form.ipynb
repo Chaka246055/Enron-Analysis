{
  "nbformat": 4,
  "nbformat_minor": 0,
  "metadata": {
    "colab": {
      "name": "form.ipynb",
      "provenance": [],
      "include_colab_link": true
    },
    "kernelspec": {
      "name": "python3",
      "display_name": "Python 3"
    }
  },
  "cells": [
    {
      "cell_type": "markdown",
      "metadata": {
        "id": "view-in-github",
        "colab_type": "text"
      },
      "source": [
        "<a href=\"https://colab.research.google.com/github/Chaka246055/Enron-Analysis/blob/main/form.ipynb\" target=\"_parent\"><img src=\"https://colab.research.google.com/assets/colab-badge.svg\" alt=\"Open In Colab\"/></a>"
      ]
    },
    {
      "cell_type": "markdown",
      "source": [
        "# Step 1. Problem Identification\n",
        "the problem is that tourist face problem with the conversion of currencies from US dollar or Japanese YEN into Australian Dollars when they vist the country. this might stand as a limitation for the  people who would like to vist the beautiful country. To solve this this problem the tourist would need an application that will help in the conversion of their currency  United States Dollars (USD) or  the Japanese YEN to know their currency value in Australian Dollars (AUD) if they are to visit."
      ],
      "metadata": {
        "id": "2piQw-VB1FhP"
      }
    },
    {
      "cell_type": "markdown",
      "source": [
        "# Step 2. Finding the solution\n",
        "To solve this problem there needs to be an application which can be used by the tourist as they come into australia.To find the solution i used the pseudocode which breaks down the step which be taken to write such a program.\n",
        "1. Welcome user\n",
        "2. Pick one currency\n",
        "3. Enter amount to be converted\n",
        "4. look for currency on list\n",
        "5. If is on list\n",
        "        convert currency to AUD\n",
        "6. Else currency if still on list\n",
        "        keep looking from the other currency\n",
        "        go back to line 5\n",
        "7. Else\n",
        "        Quit\n",
        "    "
      ],
      "metadata": {
        "id": "MMp_2Zl3ziC3"
      }
    },
    {
      "cell_type": "markdown",
      "source": [
        "Code and Test it"
      ],
      "metadata": {
        "id": "TOvwK9pTD9uD"
      }
    },
    {
      "cell_type": "code",
      "metadata": {
        "id": "adCXeCWfufOI",
        "colab": {
          "base_uri": "https://localhost:8080/"
        },
        "outputId": "31a7287d-0cac-4899-d58a-37c829e4f0e1"
      },
      "source": [
        "print('Welcome to Australian currency convetor')# display message\n",
        "currency = input('(USD)American dollar or (YEN)Japanese Yen: ')#prompt currency and store value\n",
        "amount = float(input('Enter Amount to be Converted '))#prompt amaount to be converted and store value\n",
        "\n",
        "#culculation of currency\n",
        "if currency.upper() == 'USD':#capitalise the string input and compare match\n",
        "  converted = amount * 1.34\n",
        "  print(f'You get {converted} AUD')#display result obatined\n",
        "else:#if not USD try YEN\n",
        "  converted = amount * 0.010\n",
        "  print(f'You get {converted} AUD')#display result"
      ],
      "execution_count": null,
      "outputs": [
        {
          "output_type": "stream",
          "name": "stdout",
          "text": [
            "Welcome to Australian currency convetor\n",
            "(USD)American dollar or (YEN)Japanese Yen: yen\n",
            "Enter Amount to be Converted 3000\n",
            "You get 30.0 AUD\n"
          ]
        }
      ]
    },
    {
      "cell_type": "markdown",
      "source": [],
      "metadata": {
        "id": "yDCxzLbEGIoR"
      }
    },
    {
      "cell_type": "markdown",
      "source": [],
      "metadata": {
        "id": "WF86XT5lFy7t"
      }
    },
    {
      "cell_type": "code",
      "metadata": {
        "id": "euBKKPgVuoNy",
        "colab": {
          "base_uri": "https://localhost:8080/"
        },
        "outputId": "b206f43c-efb4-41aa-ba44-16eb69f37d24"
      },
      "source": [
        "#@title Welcome to Australian currency convetor\n",
        "\n",
        "amount =   3000#@param {type: \"number\"}\n",
        "currency = \"YEN\"  #@param ['USD', 'YEN']\n",
        "\n",
        "if currency == 'USD':\n",
        "  converted = amount * 1.34\n",
        "  print(f'You get {converted} AUD')\n",
        "else:\n",
        "  converted = amount * 0.010\n",
        "  print(f'You get {converted} AUD')\n"
      ],
      "execution_count": null,
      "outputs": [
        {
          "output_type": "stream",
          "name": "stdout",
          "text": [
            "You get 30.0 AUD\n"
          ]
        }
      ]
    },
    {
      "cell_type": "markdown",
      "source": [
        "# New Section"
      ],
      "metadata": {
        "id": "6zqOKD2Soa6J"
      }
    }
  ]
}